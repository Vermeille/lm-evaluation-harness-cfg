{
 "cells": [
  {
   "cell_type": "code",
   "execution_count": 18,
   "outputs": [],
   "source": [
    "import jsonlines\n",
    "import pandas as pd"
   ],
   "metadata": {
    "collapsed": false,
    "ExecuteTime": {
     "end_time": "2023-06-12T15:24:24.251891Z",
     "start_time": "2023-06-12T15:24:23.831507Z"
    }
   }
  },
  {
   "cell_type": "code",
   "execution_count": 16,
   "metadata": {
    "collapsed": true,
    "ExecuteTime": {
     "end_time": "2023-06-12T15:23:39.806927Z",
     "start_time": "2023-06-12T15:23:39.797980Z"
    }
   },
   "outputs": [],
   "source": [
    "with open('results/prompt-1-ppl-toxicity-experiment.txt') as f:\n",
    "    story = list(jsonlines.Reader(f))"
   ]
  },
  {
   "cell_type": "code",
   "execution_count": 20,
   "outputs": [],
   "source": [
    "results_df = pd.DataFrame(story)"
   ],
   "metadata": {
    "collapsed": false,
    "ExecuteTime": {
     "end_time": "2023-06-12T15:28:12.195790Z",
     "start_time": "2023-06-12T15:28:12.193102Z"
    }
   }
  },
  {
   "cell_type": "code",
   "execution_count": 27,
   "outputs": [],
   "source": [
    "expanded_results_df = (\n",
    "    results_df\n",
    "     .set_index(['cfg', 'dataset'])['all_ppls']\n",
    "     .apply(pd.Series)\n",
    "     .stack()\n",
    "     .reset_index()\n",
    "     .rename(columns={0:'ppl'})\n",
    "     .drop('level_2', axis=1)\n",
    ")"
   ],
   "metadata": {
    "collapsed": false,
    "ExecuteTime": {
     "end_time": "2023-06-12T15:33:28.528829Z",
     "start_time": "2023-06-12T15:33:28.515056Z"
    }
   }
  },
  {
   "cell_type": "code",
   "execution_count": 31,
   "outputs": [],
   "source": [
    "import seaborn as sns\n",
    "import matplotlib.pyplot as plt"
   ],
   "metadata": {
    "collapsed": false,
    "ExecuteTime": {
     "end_time": "2023-06-12T15:34:22.202703Z",
     "start_time": "2023-06-12T15:34:22.200427Z"
    }
   }
  },
  {
   "cell_type": "code",
   "execution_count": 43,
   "outputs": [],
   "source": [
    "import numpy as np"
   ],
   "metadata": {
    "collapsed": false,
    "ExecuteTime": {
     "end_time": "2023-06-12T15:47:43.409922Z",
     "start_time": "2023-06-12T15:47:43.406213Z"
    }
   }
  },
  {
   "cell_type": "code",
   "execution_count": 49,
   "outputs": [
    {
     "data": {
      "text/plain": "       cfg    dataset           ppl\n0      1.0      toxic  5.044266e+01\n1      1.0      toxic  4.481009e+01\n2      1.0      toxic  3.628376e+01\n3      1.0      toxic  7.331855e+01\n4      1.0      toxic  1.087793e+01\n...    ...        ...           ...\n12241  7.0  non-toxic  5.708040e-09\n12242  7.0  non-toxic  3.748839e-01\n12243  7.0  non-toxic  1.358550e+00\n12244  7.0  non-toxic  6.385157e+00\n12245  7.0  non-toxic  5.565931e-03\n\n[12246 rows x 3 columns]",
      "text/html": "<div>\n<style scoped>\n    .dataframe tbody tr th:only-of-type {\n        vertical-align: middle;\n    }\n\n    .dataframe tbody tr th {\n        vertical-align: top;\n    }\n\n    .dataframe thead th {\n        text-align: right;\n    }\n</style>\n<table border=\"1\" class=\"dataframe\">\n  <thead>\n    <tr style=\"text-align: right;\">\n      <th></th>\n      <th>cfg</th>\n      <th>dataset</th>\n      <th>ppl</th>\n    </tr>\n  </thead>\n  <tbody>\n    <tr>\n      <th>0</th>\n      <td>1.0</td>\n      <td>toxic</td>\n      <td>5.044266e+01</td>\n    </tr>\n    <tr>\n      <th>1</th>\n      <td>1.0</td>\n      <td>toxic</td>\n      <td>4.481009e+01</td>\n    </tr>\n    <tr>\n      <th>2</th>\n      <td>1.0</td>\n      <td>toxic</td>\n      <td>3.628376e+01</td>\n    </tr>\n    <tr>\n      <th>3</th>\n      <td>1.0</td>\n      <td>toxic</td>\n      <td>7.331855e+01</td>\n    </tr>\n    <tr>\n      <th>4</th>\n      <td>1.0</td>\n      <td>toxic</td>\n      <td>1.087793e+01</td>\n    </tr>\n    <tr>\n      <th>...</th>\n      <td>...</td>\n      <td>...</td>\n      <td>...</td>\n    </tr>\n    <tr>\n      <th>12241</th>\n      <td>7.0</td>\n      <td>non-toxic</td>\n      <td>5.708040e-09</td>\n    </tr>\n    <tr>\n      <th>12242</th>\n      <td>7.0</td>\n      <td>non-toxic</td>\n      <td>3.748839e-01</td>\n    </tr>\n    <tr>\n      <th>12243</th>\n      <td>7.0</td>\n      <td>non-toxic</td>\n      <td>1.358550e+00</td>\n    </tr>\n    <tr>\n      <th>12244</th>\n      <td>7.0</td>\n      <td>non-toxic</td>\n      <td>6.385157e+00</td>\n    </tr>\n    <tr>\n      <th>12245</th>\n      <td>7.0</td>\n      <td>non-toxic</td>\n      <td>5.565931e-03</td>\n    </tr>\n  </tbody>\n</table>\n<p>12246 rows × 3 columns</p>\n</div>"
     },
     "execution_count": 49,
     "metadata": {},
     "output_type": "execute_result"
    }
   ],
   "source": [
    "expanded_results_df.assign(ppl=lambda df: df['ppl'].pipe(lambda s: np.exp(-np.log(-s))))"
   ],
   "metadata": {
    "collapsed": false,
    "ExecuteTime": {
     "end_time": "2023-06-12T15:48:50.434677Z",
     "start_time": "2023-06-12T15:48:50.422466Z"
    }
   }
  },
  {
   "cell_type": "code",
   "execution_count": 51,
   "outputs": [
    {
     "data": {
      "text/plain": "<AxesSubplot:xlabel='cfg', ylabel='ppl'>"
     },
     "execution_count": 51,
     "metadata": {},
     "output_type": "execute_result"
    },
    {
     "data": {
      "text/plain": "<Figure size 432x288 with 1 Axes>",
      "image/png": "[encoded data removed]"
     },
     "metadata": {
      "needs_background": "light"
     },
     "output_type": "display_data"
    }
   ],
   "source": [
    "sns.lineplot(\n",
    "    data=(\n",
    "        expanded_results_df\n",
    "        .assign(ppl=lambda df: df['ppl'].pipe(lambda s: np.exp(-np.log(-s))))\n",
    "        # .loc[lambda df: df['cfg'] < 3]\n",
    "    ),\n",
    "    hue='dataset',\n",
    "    y='ppl',\n",
    "    x='cfg'\n",
    ")"
   ],
   "metadata": {
    "collapsed": false,
    "ExecuteTime": {
     "end_time": "2023-06-12T15:49:15.662884Z",
     "start_time": "2023-06-12T15:49:15.201631Z"
    }
   }
  },
  {
   "cell_type": "code",
   "execution_count": null,
   "outputs": [],
   "source": [],
   "metadata": {
    "collapsed": false
   }
  }
 ],
 "metadata": {
  "kernelspec": {
   "display_name": "Python 3",
   "language": "python",
   "name": "python3"
  },
  "language_info": {
   "codemirror_mode": {
    "name": "ipython",
    "version": 2
   },
   "file_extension": ".py",
   "mimetype": "text/x-python",
   "name": "python",
   "nbconvert_exporter": "python",
   "pygments_lexer": "ipython2",
   "version": "2.7.6"
  }
 },
 "nbformat": 4,
 "nbformat_minor": 0
}
