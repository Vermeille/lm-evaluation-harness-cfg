{
 "cells": [
  {
   "cell_type": "code",
   "execution_count": 5,
   "metadata": {
    "collapsed": true,
    "ExecuteTime": {
     "end_time": "2023-06-02T20:57:48.134065Z",
     "start_time": "2023-06-02T20:57:48.127859Z"
    }
   },
   "outputs": [],
   "source": [
    "import glob\n",
    "import re\n",
    "debug_files = glob.glob('../inner-debug-file*')"
   ]
  },
  {
   "cell_type": "code",
   "execution_count": 7,
   "outputs": [],
   "source": [
    "models = list(map(lambda x: re.search('file-(\\w+).txt', x)[1], debug_files))"
   ],
   "metadata": {
    "collapsed": false,
    "ExecuteTime": {
     "end_time": "2023-06-02T20:58:25.727672Z",
     "start_time": "2023-06-02T20:58:25.724911Z"
    }
   }
  },
  {
   "cell_type": "code",
   "execution_count": 21,
   "outputs": [],
   "source": [
    "with open(debug_files[0]) as f:\n",
    "    debug_lines = list(filter(lambda x: x.strip() != '', f.read().split('\\n')))"
   ],
   "metadata": {
    "collapsed": false,
    "ExecuteTime": {
     "end_time": "2023-06-02T20:59:49.788178Z",
     "start_time": "2023-06-02T20:59:49.784799Z"
    }
   }
  },
  {
   "cell_type": "code",
   "execution_count": 24,
   "outputs": [
    {
     "data": {
      "text/plain": "'orig inp cont:  Seth'"
     },
     "execution_count": 24,
     "metadata": {},
     "output_type": "execute_result"
    }
   ],
   "source": [
    "debug_lines[3]"
   ],
   "metadata": {
    "collapsed": false,
    "ExecuteTime": {
     "end_time": "2023-06-02T20:59:56.443945Z",
     "start_time": "2023-06-02T20:59:56.443313Z"
    }
   }
  },
  {
   "cell_type": "code",
   "execution_count": null,
   "outputs": [],
   "source": [],
   "metadata": {
    "collapsed": false
   }
  },
  {
   "cell_type": "code",
   "execution_count": null,
   "outputs": [],
   "source": [],
   "metadata": {
    "collapsed": false
   }
  },
  {
   "cell_type": "code",
   "execution_count": 11,
   "outputs": [],
   "source": [
    "y_pred = [\n",
    "'tie',\n",
    "'b',\n",
    "'a',\n",
    "'a',\n",
    "'b',\n",
    "'a',\n",
    "'b',\n",
    "'a',\n",
    "'a',\n",
    "'b',\n",
    "'b',\n",
    "'a',\n",
    "'tie (b)',\n",
    "'tie (a)',\n",
    "'neither (a)',\n",
    "'a',\n",
    "'tie (b)',\n",
    "'b',\n",
    "'a',\n",
    "'neither (a)',\n",
    "'b',\n",
    "'b',\n",
    "'b',\n",
    "'b',\n",
    "'b',\n",
    "'a',\n",
    "'tie (a)',\n",
    "'a',\n",
    "'b',\n",
    "'b',\n",
    "'a',\n",
    "'tie (b)',\n",
    "'tie (b)',\n",
    "'b',\n",
    "'tie (b)',\n",
    "'a',\n",
    "'tie (a)',\n",
    "'b',\n",
    "'neither (a)',\n",
    "'a',\n",
    "'a',\n",
    "'a',\n",
    "'a',\n",
    "'a',\n",
    "'neither (a)',\n",
    "'a',]"
   ],
   "metadata": {
    "collapsed": false,
    "ExecuteTime": {
     "end_time": "2023-06-14T01:18:10.993803Z",
     "start_time": "2023-06-14T01:18:10.990623Z"
    }
   }
  },
  {
   "cell_type": "code",
   "execution_count": 10,
   "outputs": [],
   "source": [
    "y_true = open('answer.txt').read().split('\\n')[2::3]"
   ],
   "metadata": {
    "collapsed": false,
    "ExecuteTime": {
     "end_time": "2023-06-14T01:18:06.842833Z",
     "start_time": "2023-06-14T01:18:06.839514Z"
    }
   }
  },
  {
   "cell_type": "code",
   "execution_count": 14,
   "outputs": [],
   "source": [
    "y_true = list(map(lambda x: x.split(), y_true))"
   ],
   "metadata": {
    "collapsed": false,
    "ExecuteTime": {
     "end_time": "2023-06-14T01:18:37.750762Z",
     "start_time": "2023-06-14T01:18:37.747476Z"
    }
   }
  },
  {
   "cell_type": "code",
   "execution_count": 19,
   "outputs": [],
   "source": [
    "y_true = [{x[1]: x[0], x[3]: x[2]}['cfg']  for x in y_true]"
   ],
   "metadata": {
    "collapsed": false,
    "ExecuteTime": {
     "end_time": "2023-06-14T01:19:27.955068Z",
     "start_time": "2023-06-14T01:19:27.952396Z"
    }
   }
  },
  {
   "cell_type": "code",
   "execution_count": 26,
   "outputs": [],
   "source": [
    "import pandas as pd\n",
    "answer_df = pd.concat([\n",
    "    pd.Series(y_true).str.lower().to_frame('y_true'),\n",
    "    pd.Series(y_pred).str.lower().to_frame('y_pred'),\n",
    "], axis=1)"
   ],
   "metadata": {
    "collapsed": false,
    "ExecuteTime": {
     "end_time": "2023-06-14T01:20:37.020982Z",
     "start_time": "2023-06-14T01:20:37.017317Z"
    }
   }
  },
  {
   "cell_type": "code",
   "execution_count": 29,
   "outputs": [
    {
     "data": {
      "text/plain": "True     30\nFalse    16\ndtype: int64"
     },
     "execution_count": 29,
     "metadata": {},
     "output_type": "execute_result"
    }
   ],
   "source": [
    "answer_df.pipe(lambda df: df['y_true'] == df['y_pred']).value_counts()"
   ],
   "metadata": {
    "collapsed": false,
    "ExecuteTime": {
     "end_time": "2023-06-14T01:20:59.379044Z",
     "start_time": "2023-06-14T01:20:59.375538Z"
    }
   }
  },
  {
   "cell_type": "code",
   "execution_count": 32,
   "outputs": [
    {
     "data": {
      "text/plain": "True     30\nFalse     3\ndtype: int64"
     },
     "execution_count": 32,
     "metadata": {},
     "output_type": "execute_result"
    }
   ],
   "source": [
    "(answer_df\n",
    "    .loc[lambda df: df['y_pred'].isin(['a', 'b'])]\n",
    "    .pipe(lambda df: df['y_true'] == df['y_pred']).value_counts()\n",
    ")"
   ],
   "metadata": {
    "collapsed": false,
    "ExecuteTime": {
     "end_time": "2023-06-14T01:21:48.583530Z",
     "start_time": "2023-06-14T01:21:48.580222Z"
    }
   }
  },
  {
   "cell_type": "code",
   "execution_count": 40,
   "outputs": [
    {
     "data": {
      "text/plain": "True       30\ntie         9\nneither     4\nFalse       3\ndtype: int64"
     },
     "execution_count": 40,
     "metadata": {},
     "output_type": "execute_result"
    }
   ],
   "source": [
    "def rate_answer(x):\n",
    "    y_pred = x['y_pred']\n",
    "    if 'tie' in y_pred:\n",
    "        return 'tie'\n",
    "    if 'neither' in y_pred:\n",
    "        return 'neither'\n",
    "    #     y_pred = y_pred.split()[1].replace('(', '').replace(')', '')\n",
    "    return y_pred == x['y_true']\n",
    "\n",
    "answer_df.apply(rate_answer, axis=1).value_counts()"
   ],
   "metadata": {
    "collapsed": false,
    "ExecuteTime": {
     "end_time": "2023-06-14T01:29:16.022850Z",
     "start_time": "2023-06-14T01:29:16.018982Z"
    }
   }
  },
  {
   "cell_type": "code",
   "execution_count": null,
   "outputs": [],
   "source": [],
   "metadata": {
    "collapsed": false
   }
  }
 ],
 "metadata": {
  "kernelspec": {
   "display_name": "Python 3",
   "language": "python",
   "name": "python3"
  },
  "language_info": {
   "codemirror_mode": {
    "name": "ipython",
    "version": 2
   },
   "file_extension": ".py",
   "mimetype": "text/x-python",
   "name": "python",
   "nbconvert_exporter": "python",
   "pygments_lexer": "ipython2",
   "version": "2.7.6"
  }
 },
 "nbformat": 4,
 "nbformat_minor": 0
}
