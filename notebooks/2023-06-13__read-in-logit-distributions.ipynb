{
 "cells": [
  {
   "cell_type": "code",
   "execution_count": 31,
   "metadata": {
    "collapsed": true,
    "ExecuteTime": {
     "end_time": "2023-06-13T05:58:55.649667Z",
     "start_time": "2023-06-13T05:58:55.646326Z"
    }
   },
   "outputs": [],
   "source": [
    "import glob\n",
    "import re\n",
    "import json\n",
    "from scipy.stats import entropy\n",
    "from scipy.special import softmax\n",
    "import pandas as pd\n",
    "import numpy as np"
   ]
  },
  {
   "cell_type": "code",
   "execution_count": 51,
   "outputs": [],
   "source": [
    "epsilon = 10e-8\n",
    "def read_and_parse_logits(lines):\n",
    "    \"\"\"Reads a file of logits, parses it and generates aggregate statistics.\n",
    "    Important: don't load all the logits into memory as there are too many.\n",
    "    \"\"\"\n",
    "    output_rows = []\n",
    "    for idx, line in enumerate(lines):\n",
    "        if line.strip() != '':\n",
    "            datum = json.loads(line)\n",
    "            if idx == 0:\n",
    "                header = datum\n",
    "            else:\n",
    "                # additional calculations here\n",
    "                cfg_probs = np.exp(datum['cfg_logits'])\n",
    "                instruct_tuned_probs = np.exp(datum['second_model_logits'])\n",
    "                vanilla_probs = np.exp(datum['prompted_logits'])\n",
    "                unconditional_probs = np.exp(datum['unprompted_logits'])\n",
    "\n",
    "                output_rows.append({\n",
    "                    'instruction-tuned entropy': entropy(instruct_tuned_probs),\n",
    "                    'cfg entropy': entropy(cfg_probs),\n",
    "                    'kld (instruct || cfg)': entropy(instruct_tuned_probs + epsilon, qk=cfg_probs + epsilon),\n",
    "                    'kld (instruct || vanilla)': entropy(instruct_tuned_probs + epsilon, qk=vanilla_probs + epsilon),\n",
    "                })\n",
    "    output_df = pd.DataFrame(output_rows)\n",
    "    output_df['cfg-model'] = header['model']\n",
    "    output_df['instruction-model'] = header['instruction-model']\n",
    "    output_df['prompt'] = header['prompt']\n",
    "    return output_df"
   ],
   "metadata": {
    "collapsed": false,
    "ExecuteTime": {
     "end_time": "2023-06-13T06:06:24.845126Z",
     "start_time": "2023-06-13T06:06:24.840699Z"
    }
   }
  },
  {
   "cell_type": "code",
   "execution_count": 53,
   "outputs": [],
   "source": [
    "file = 'results/logit-files__togethercomputer-redpajama-incite-base-3b-v1__38.txt'\n",
    "with open(file) as f:\n",
    "    lines = f.read().split('\\n')\n",
    "    one_file_df = read_and_parse_logits(lines)"
   ],
   "metadata": {
    "collapsed": false,
    "ExecuteTime": {
     "end_time": "2023-06-13T06:06:35.693060Z",
     "start_time": "2023-06-13T06:06:27.382755Z"
    }
   }
  },
  {
   "cell_type": "code",
   "execution_count": 56,
   "outputs": [
    {
     "data": {
      "text/plain": "     kld (instruct || cfg)  kld (instruct || vanilla)\n0                 2.470686                   1.650708\n1                 4.953694                   3.409296\n2                 0.514555                   0.242561\n3                 0.068734                   0.040349\n4                 1.059919                   0.491377\n..                     ...                        ...\n123               3.458066                   2.098992\n124               3.295724                   1.873743\n125               0.311076                   0.206777\n126               0.222711                   0.187748\n127               2.784120                   1.527983\n\n[128 rows x 2 columns]",
      "text/html": "<div>\n<style scoped>\n    .dataframe tbody tr th:only-of-type {\n        vertical-align: middle;\n    }\n\n    .dataframe tbody tr th {\n        vertical-align: top;\n    }\n\n    .dataframe thead th {\n        text-align: right;\n    }\n</style>\n<table border=\"1\" class=\"dataframe\">\n  <thead>\n    <tr style=\"text-align: right;\">\n      <th></th>\n      <th>kld (instruct || cfg)</th>\n      <th>kld (instruct || vanilla)</th>\n    </tr>\n  </thead>\n  <tbody>\n    <tr>\n      <th>0</th>\n      <td>2.470686</td>\n      <td>1.650708</td>\n    </tr>\n    <tr>\n      <th>1</th>\n      <td>4.953694</td>\n      <td>3.409296</td>\n    </tr>\n    <tr>\n      <th>2</th>\n      <td>0.514555</td>\n      <td>0.242561</td>\n    </tr>\n    <tr>\n      <th>3</th>\n      <td>0.068734</td>\n      <td>0.040349</td>\n    </tr>\n    <tr>\n      <th>4</th>\n      <td>1.059919</td>\n      <td>0.491377</td>\n    </tr>\n    <tr>\n      <th>...</th>\n      <td>...</td>\n      <td>...</td>\n    </tr>\n    <tr>\n      <th>123</th>\n      <td>3.458066</td>\n      <td>2.098992</td>\n    </tr>\n    <tr>\n      <th>124</th>\n      <td>3.295724</td>\n      <td>1.873743</td>\n    </tr>\n    <tr>\n      <th>125</th>\n      <td>0.311076</td>\n      <td>0.206777</td>\n    </tr>\n    <tr>\n      <th>126</th>\n      <td>0.222711</td>\n      <td>0.187748</td>\n    </tr>\n    <tr>\n      <th>127</th>\n      <td>2.784120</td>\n      <td>1.527983</td>\n    </tr>\n  </tbody>\n</table>\n<p>128 rows × 2 columns</p>\n</div>"
     },
     "execution_count": 56,
     "metadata": {},
     "output_type": "execute_result"
    }
   ],
   "source": [
    "one_file_df[['kld (instruct || cfg)', 'kld (instruct || vanilla)']]"
   ],
   "metadata": {
    "collapsed": false,
    "ExecuteTime": {
     "end_time": "2023-06-13T06:07:15.782050Z",
     "start_time": "2023-06-13T06:07:15.776385Z"
    }
   }
  },
  {
   "cell_type": "code",
   "execution_count": null,
   "outputs": [],
   "source": [],
   "metadata": {
    "collapsed": false
   }
  },
  {
   "cell_type": "code",
   "execution_count": null,
   "outputs": [],
   "source": [],
   "metadata": {
    "collapsed": false
   }
  },
  {
   "cell_type": "code",
   "execution_count": null,
   "outputs": [],
   "source": [],
   "metadata": {
    "collapsed": false
   }
  },
  {
   "cell_type": "code",
   "execution_count": null,
   "outputs": [],
   "source": [],
   "metadata": {
    "collapsed": false
   }
  }
 ],
 "metadata": {
  "kernelspec": {
   "display_name": "Python 3",
   "language": "python",
   "name": "python3"
  },
  "language_info": {
   "codemirror_mode": {
    "name": "ipython",
    "version": 2
   },
   "file_extension": ".py",
   "mimetype": "text/x-python",
   "name": "python",
   "nbconvert_exporter": "python",
   "pygments_lexer": "ipython2",
   "version": "2.7.6"
  }
 },
 "nbformat": 4,
 "nbformat_minor": 0
}
